{
 "cells": [
  {
   "cell_type": "code",
   "execution_count": null,
   "metadata": {},
   "outputs": [],
   "source": [
    "import warnings\n",
    "warnings.filterwarnings('ignore')"
   ]
  },
  {
   "cell_type": "code",
   "execution_count": null,
   "metadata": {
    "scrolled": true
   },
   "outputs": [],
   "source": [
    "!pip install selenium"
   ]
  },
  {
   "cell_type": "code",
   "execution_count": null,
   "metadata": {},
   "outputs": [],
   "source": [
    "import threading\n",
    "from selenium import webdriver\n",
    "from selenium.webdriver.common.keys import Keys\n",
    "import time\n",
    "import urllib.request"
   ]
  },
  {
   "cell_type": "code",
   "execution_count": null,
   "metadata": {},
   "outputs": [],
   "source": [
    "driver = webdriver.Chrome('C:/chromedriver.exe')\n",
    "driver.get(\"https://www.google.com/search?q=white+color+t-shirt&source=lnms&tbm=isch&sa=X&sqi=2&ved=2ahUKEwjniaLxo473AhW6IDQIHblpDNIQ_AUoAXoECAEQAw&biw=1920&bih=969&dpr=1\")\n",
    "\n",
    "SCROLL_PAUSE_TIME = 3\n",
    "# Get scroll height\n",
    "last_height = driver.execute_script(\"return document.body.scrollHeight\")\n",
    "SAVE_FLAG = False\n",
    "def timeout(limit_time):\n",
    "    start = time.time()\n",
    "    while True:\n",
    "        if time.time() - start > limit_time or SAVE_FLAG:\n",
    "            raise Exception('timeout. or image saved.')\n",
    "\n",
    "while True: # scroll to load results\n",
    "    # Scroll down to bottom\n",
    "    driver.execute_script(\"window.scrollTo(0, document.body.scrollHeight);\")\n",
    "    # Wait to load page\n",
    "    time.sleep(SCROLL_PAUSE_TIME)\n",
    "    # Calculate new scroll height and compare with last scroll height\n",
    "    new_height = driver.execute_script(\"return document.body.scrollHeight\")\n",
    "    if new_height == last_height:\n",
    "        try:\n",
    "            driver.find_element_by_css_selector(\".mye4qd\").click()\n",
    "        except:\n",
    "            break\n",
    "    last_height = new_height\n",
    "\n",
    "images = driver.find_elements_by_css_selector(\".rg_i.Q4LuWd\")\n",
    "count = 0\n",
    "for image in images:\n",
    "    SAVE_FLAG = False\n",
    "    timer = threading.Thread(target=timeout, args=(10))\n",
    "    try:\n",
    "        image.click()\n",
    "        time.sleep(0.1)\n",
    "        timer.start()\n",
    "        # copy&paste image's XPath\n",
    "        imgUrl = driver.find_element_by_xpath('//*[@id=\"Sva75c\"]/div/div/div[3]/div[2]/c-wiz/div/div[1]/div[1]/div[2]/div[1]/a/img').get_attribute(\"src\")\n",
    "        urllib.request.urlretrieve(imgUrl, \"./dataset_image/\"+ \"_{0:04}\".format(count) + \".jpg\") # image save path\n",
    "        print('Save images : ', \"./dataset_image/\"+ \"_{0:04}\".format(count) + \".jpg\")\n",
    "        SAVE_FLAG = True\n",
    "        count += 1\n",
    "        if timer.is_alive():\n",
    "            timer.join()\n",
    "    except Exception as e:\n",
    "        if timer.is_alive():\n",
    "            timer.join()\n",
    "        pass\n",
    "print('driver end. Total images : ', count)\n",
    "driver.close()"
   ]
  }
 ],
 "metadata": {
  "kernelspec": {
   "display_name": "Python 3 (ipykernel)",
   "language": "python",
   "name": "python3"
  },
  "language_info": {
   "codemirror_mode": {
    "name": "ipython",
    "version": 3
   },
   "file_extension": ".py",
   "mimetype": "text/x-python",
   "name": "python",
   "nbconvert_exporter": "python",
   "pygments_lexer": "ipython3",
   "version": "3.8.5"
  }
 },
 "nbformat": 4,
 "nbformat_minor": 4
}
