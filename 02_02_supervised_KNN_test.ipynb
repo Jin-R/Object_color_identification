{
 "cells": [
  {
   "cell_type": "markdown",
   "metadata": {},
   "source": [
    "# Import moduls"
   ]
  },
  {
   "cell_type": "code",
   "execution_count": 1,
   "metadata": {},
   "outputs": [],
   "source": [
    "import warnings\n",
    "warnings.filterwarnings('ignore')"
   ]
  },
  {
   "cell_type": "code",
   "execution_count": 2,
   "metadata": {},
   "outputs": [],
   "source": [
    "import numpy as np\n",
    "import pandas as pd\n",
    "\n",
    "# moduls for KNN_color()\n",
    "from sklearn.model_selection import train_test_split\n",
    "from sklearn.neighbors import KNeighborsClassifier\n",
    "\n",
    "# modul for significant_color_knn()\n",
    "from collections import Counter"
   ]
  },
  {
   "cell_type": "markdown",
   "metadata": {},
   "source": [
    "# Functions"
   ]
  },
  {
   "cell_type": "code",
   "execution_count": 3,
   "metadata": {},
   "outputs": [],
   "source": [
    "def img_preprocessing(img):\n",
    "    datas = img\n",
    "    newData = []\n",
    "    cutoff = 200\n",
    "    \n",
    "    # cutoff \n",
    "    for item in datas:\n",
    "        if item[0] >= cutoff and item[1] >= cutoff and item[2] >= cutoff:\n",
    "            newData.append((255, 255, 255, 0)) # if RGB value is over cutoff, consider as background (white)\n",
    "        else:\n",
    "            newData.append(item)  # don't change others\n",
    "    \n",
    "    img_pixel = pd.DataFrame(np.array(newData))\n",
    "    drop_idx = img_pixel[img_pixel[3] == 0].index  # if pixel is transparent, dorp\n",
    "    img_pixel = img_pixel.drop(drop_idx)\n",
    "    pixels = img_pixel.drop(columns=[3], axis=1)\n",
    "    pixels.columns = ['R', 'G', 'B']\n",
    "    pixels = pixels.reset_index(drop=True)\n",
    "    \n",
    "    return pixels"
   ]
  },
  {
   "cell_type": "code",
   "execution_count": 4,
   "metadata": {},
   "outputs": [],
   "source": [
    "def KNN_color(rgb_data):\n",
    "    X = rgb_data[['R', 'G', 'B']]\n",
    "    y = rgb_data['index']\n",
    "    X_train, X_test, y_train, y_test = train_test_split(X, y, stratify = y,train_size = 0.7,test_size = 0.3,random_state = 0)\n",
    "    \n",
    "    knn = KNeighborsClassifier(n_neighbors=16)  # set KNN model\n",
    "    knn.fit(X_train, y_train)\n",
    "    \n",
    "    print('train set score:', knn.score(X_train, y_train))\n",
    "    print('test set score:', knn.score(X_test, y_test))\n",
    "    \n",
    "    n_test = len(y_test)\n",
    "    y_predict = knn.predict(X_test)\n",
    "    \n",
    "    return knn"
   ]
  },
  {
   "cell_type": "code",
   "execution_count": 5,
   "metadata": {},
   "outputs": [],
   "source": [
    "def significant_color_knn(pixels):\n",
    "    colors = ['aqua','black', 'blue', 'fuchsia', 'green', 'lime', 'maroon', 'navy', 'red', 'white', 'yellow']\n",
    "    \n",
    "    # if the image only contains white color\n",
    "    # image preprocessing eliminates white pixels, so if the image only has white color, no pixel will remain\n",
    "    if len(pixels) == 0:\n",
    "        return 9\n",
    "    \n",
    "    pred_color = knn.predict(pixels)  # identify color using learned model\n",
    "    color_counts = Counter(knn.predict(pixels))  # count label\n",
    "    detected = [i for i in color_counts.keys()]  # key of color_counts\n",
    "    \n",
    "    det_col = []\n",
    "    for i in range(len(detected)):  # function for identifiying color name of the key\n",
    "        det_col.append(colors[detected[i]])\n",
    "        \n",
    "    # making into single dataframe of the rgb values and the result\n",
    "    predicted = pd.DataFrame(pred_color)\n",
    "    predicted.columns = ['index']\n",
    "    predicted = pixels.join(predicted)\n",
    "    \n",
    "    # index of most significant color\n",
    "    for k, v in color_counts.items():\n",
    "        if v == max(color_counts.values()):\n",
    "            max_idx = k\n",
    "            \n",
    "    return max_idx"
   ]
  },
  {
   "cell_type": "markdown",
   "metadata": {},
   "source": [
    "# Test"
   ]
  },
  {
   "cell_type": "code",
   "execution_count": 6,
   "metadata": {},
   "outputs": [],
   "source": [
    "# load dataset\n",
    "X = np.load(\"./dataset/1100_clothing_img.npy\")\n",
    "y = np.load(\"./dataset/1100_clothing_color.npy\")"
   ]
  },
  {
   "cell_type": "code",
   "execution_count": 7,
   "metadata": {},
   "outputs": [],
   "source": [
    "rgb_data = pd.read_csv('./colorChart/augmented_color_chart_11.csv')  # data to learn (augmented)\n",
    "html = pd.read_csv('./colorChart/colorChart_11.csv')  # data to identify color (non-augmented data)"
   ]
  },
  {
   "cell_type": "code",
   "execution_count": 8,
   "metadata": {},
   "outputs": [
    {
     "name": "stdout",
     "output_type": "stream",
     "text": [
      "(1100, 16384, 4)\n",
      "(1100,)\n"
     ]
    }
   ],
   "source": [
    "print(X.shape)\n",
    "print(y.shape)"
   ]
  },
  {
   "cell_type": "code",
   "execution_count": 9,
   "metadata": {},
   "outputs": [
    {
     "name": "stdout",
     "output_type": "stream",
     "text": [
      "train set score: 0.99052809134553\n",
      "test set score: 0.9881961259079903\n",
      "\n",
      "test data length: 3304\n",
      "Number of data that matched the prediction: 3265\n",
      "match rate: 98.82 %\n",
      "CPU times: total: 406 ms\n",
      "Wall time: 378 ms\n"
     ]
    }
   ],
   "source": [
    "%%time\n",
    "knn = KNN_color(rgb_data = rgb_data)"
   ]
  },
  {
   "cell_type": "code",
   "execution_count": 10,
   "metadata": {},
   "outputs": [],
   "source": [
    "result = []"
   ]
  },
  {
   "cell_type": "code",
   "execution_count": 11,
   "metadata": {},
   "outputs": [
    {
     "name": "stdout",
     "output_type": "stream",
     "text": [
      "100 images processed\n",
      "200 images processed\n",
      "300 images processed\n",
      "400 images processed\n",
      "500 images processed\n",
      "600 images processed\n",
      "700 images processed\n",
      "800 images processed\n",
      "900 images processed\n",
      "1000 images processed\n",
      "1100 images processed\n",
      "CPU times: total: 9min 13s\n",
      "Wall time: 9min 14s\n"
     ]
    }
   ],
   "source": [
    "%%time\n",
    "\n",
    "for i in range(len(X)):\n",
    "    img = X[i]\n",
    "    pixels = img_preprocessing(img = img)\n",
    "    identified_color = significant_color_knn(pixels = pixels)\n",
    "    result.append(identified_color)\n",
    "    \n",
    "    if (i+1) % 100 == 0:\n",
    "        print(f\"{i+1} images processed\")"
   ]
  },
  {
   "cell_type": "code",
   "execution_count": 13,
   "metadata": {},
   "outputs": [
    {
     "data": {
      "text/plain": [
       "1100"
      ]
     },
     "execution_count": 13,
     "metadata": {},
     "output_type": "execute_result"
    }
   ],
   "source": [
    "len(result)"
   ]
  },
  {
   "cell_type": "code",
   "execution_count": 15,
   "metadata": {},
   "outputs": [],
   "source": [
    "KNN_pred = np.array(result)\n",
    "np.save(\"./1100_KNN_result\", KNN_pred)"
   ]
  },
  {
   "cell_type": "markdown",
   "metadata": {},
   "source": [
    "# Check accuracy"
   ]
  },
  {
   "cell_type": "code",
   "execution_count": 58,
   "metadata": {},
   "outputs": [],
   "source": [
    "from sklearn.metrics import confusion_matrix, accuracy_score, classification_report\n",
    "import seaborn as sns\n",
    "from matplotlib import pyplot as plt"
   ]
  },
  {
   "cell_type": "code",
   "execution_count": 62,
   "metadata": {},
   "outputs": [
    {
     "data": {
      "text/plain": [
       "116.91022196540386"
      ]
     },
     "execution_count": 62,
     "metadata": {},
     "output_type": "execute_result"
    }
   ],
   "source": [
    "np.linalg.norm(y-result)"
   ]
  },
  {
   "cell_type": "code",
   "execution_count": 17,
   "metadata": {
    "scrolled": false
   },
   "outputs": [
    {
     "data": {
      "text/plain": [
       "array([[50,  0,  0,  0,  0,  0,  0,  5,  0, 45,  0],\n",
       "       [ 0, 99,  0,  0,  1,  0,  0,  0,  0,  0,  0],\n",
       "       [20,  0, 24,  0,  0,  0,  0, 45,  0, 11,  0],\n",
       "       [ 0,  0,  0, 53,  0,  0,  2,  0, 35, 10,  0],\n",
       "       [ 2, 42,  0,  0, 44,  4,  0,  0,  0,  4,  4],\n",
       "       [ 1,  0,  0,  0,  2, 10,  0,  0,  0, 23, 64],\n",
       "       [ 0, 34,  0,  0,  0,  0, 64,  0,  2,  0,  0],\n",
       "       [ 8, 68,  7,  0,  0,  0,  0, 15,  0,  2,  0],\n",
       "       [ 0,  0,  0,  0,  0,  0, 26,  0, 74,  0,  0],\n",
       "       [ 0,  1,  0,  0,  1,  0,  3,  1,  1, 92,  1],\n",
       "       [ 0,  0,  0,  0,  0,  0,  0,  0,  0, 12, 88]], dtype=int64)"
      ]
     },
     "execution_count": 17,
     "metadata": {},
     "output_type": "execute_result"
    }
   ],
   "source": [
    "conf_mx = confusion_matrix(y, result)\n",
    "conf_mx"
   ]
  },
  {
   "cell_type": "code",
   "execution_count": 18,
   "metadata": {},
   "outputs": [],
   "source": [
    "label = ['aqua','black', 'blue', 'fuchsia', 'green', 'lime', 'maroon', 'navy', 'red', 'white', 'yellow']"
   ]
  },
  {
   "cell_type": "code",
   "execution_count": 39,
   "metadata": {},
   "outputs": [],
   "source": [
    "y_plot = y.reshape(-1, 1)\n",
    "result_plot = KNN_pred.reshape(-1, 1)"
   ]
  },
  {
   "cell_type": "code",
   "execution_count": 57,
   "metadata": {},
   "outputs": [
    {
     "data": {
      "image/png": "[encoded data removed]",
      "text/plain": [
       "<Figure size 864x720 with 2 Axes>"
      ]
     },
     "metadata": {
      "needs_background": "light"
     },
     "output_type": "display_data"
    }
   ],
   "source": [
    "plt.figure(figsize=(12, 10)) \n",
    "sns.heatmap(conf_mx, annot=True, cmap=plt.cm.Blues, fmt='d')\n",
    "plt.xticks(np.arange(0.5, len(label), 1), labels=label)\n",
    "plt.yticks(np.arange(0.5, len(label), 1), labels=label)\n",
    "plt.xlabel('Predicted', fontsize=15)\n",
    "plt.ylabel('True', fontsize=15)\n",
    "plt.title('KNN Confusion Matrix', fontsize=15)\n",
    "plt.savefig('KNN_confusion_matrix.png')\n",
    "plt.show()"
   ]
  },
  {
   "cell_type": "code",
   "execution_count": 60,
   "metadata": {},
   "outputs": [
    {
     "data": {
      "text/plain": [
       "0.5572727272727273"
      ]
     },
     "execution_count": 60,
     "metadata": {},
     "output_type": "execute_result"
    }
   ],
   "source": [
    "accuracy_score(y, result)"
   ]
  },
  {
   "cell_type": "code",
   "execution_count": 54,
   "metadata": {},
   "outputs": [
    {
     "name": "stdout",
     "output_type": "stream",
     "text": [
      "              precision    recall  f1-score   support\n",
      "\n",
      "           0       0.62      0.50      0.55       100\n",
      "           1       0.41      0.99      0.58       100\n",
      "           2       0.77      0.24      0.37       100\n",
      "           3       1.00      0.53      0.69       100\n",
      "           4       0.92      0.44      0.59       100\n",
      "           5       0.71      0.10      0.18       100\n",
      "           6       0.67      0.64      0.66       100\n",
      "           7       0.23      0.15      0.18       100\n",
      "           8       0.66      0.74      0.70       100\n",
      "           9       0.46      0.92      0.62       100\n",
      "          10       0.56      0.88      0.68       100\n",
      "\n",
      "    accuracy                           0.56      1100\n",
      "   macro avg       0.64      0.56      0.53      1100\n",
      "weighted avg       0.64      0.56      0.53      1100\n",
      "\n"
     ]
    }
   ],
   "source": [
    "print(classification_report(y, result))"
   ]
  },
  {
   "cell_type": "markdown",
   "metadata": {},
   "source": [
    "* precision: 정밀도. 예측이 실제로 정답인 확률. (예측과 정답이 일치 / 해당 label이라고 예측한 수)\n",
    "* recall: 재현도. 정답 중 정답으로 예측된 확률. (예측과 정답이 일치 / 정답의 수 = 100)\n",
    "* f1: 정밀도와 재현도의 가중 조화평균"
   ]
  }
 ],
 "metadata": {
  "kernelspec": {
   "display_name": "Python 3 (ipykernel)",
   "language": "python",
   "name": "python3"
  },
  "language_info": {
   "codemirror_mode": {
    "name": "ipython",
    "version": 3
   },
   "file_extension": ".py",
   "mimetype": "text/x-python",
   "name": "python",
   "nbconvert_exporter": "python",
   "pygments_lexer": "ipython3",
   "version": "3.8.5"
  }
 },
 "nbformat": 4,
 "nbformat_minor": 4
}
