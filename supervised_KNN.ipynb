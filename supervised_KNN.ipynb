{
 "cells": [
  {
   "cell_type": "markdown",
   "metadata": {},
   "source": [
    "# Import moduls"
   ]
  },
  {
   "cell_type": "code",
   "execution_count": 1,
   "metadata": {},
   "outputs": [],
   "source": [
    "import warnings\n",
    "warnings.filterwarnings('ignore')"
   ]
  },
  {
   "cell_type": "code",
   "execution_count": 2,
   "metadata": {},
   "outputs": [],
   "source": [
    "import numpy as np\n",
    "import pandas as pd\n",
    "from matplotlib import pyplot as plt\n",
    "\n",
    "# moduls for img_preprocessing()\n",
    "import cv2, sys\n",
    "from PIL import Image\n",
    "\n",
    "# moduls for KNN_color()\n",
    "from sklearn.model_selection import train_test_split\n",
    "import sklearn.preprocessing as preprocessing\n",
    "from sklearn.neighbors import KNeighborsClassifier\n",
    "\n",
    "# modul for significant_color_knn()\n",
    "from collections import Counter"
   ]
  },
  {
   "cell_type": "markdown",
   "metadata": {},
   "source": [
    "# Functions"
   ]
  },
  {
   "cell_type": "code",
   "execution_count": 3,
   "metadata": {},
   "outputs": [],
   "source": [
    "def img_preprocessing(img):\n",
    "    img = img.convert(\"RGBA\")\n",
    "    img = img.resize((128, 128))\n",
    "    datas = img.getdata()\n",
    "    \n",
    "    newData = []\n",
    "    cutoff = 200\n",
    "    \n",
    "    # cutoff \n",
    "    for item in datas:\n",
    "        if item[0] >= cutoff and item[1] >= cutoff and item[2] >= cutoff:\n",
    "            newData.append((255, 255, 255, 0)) # if RGB value is over cutoff, consider as background (white)\n",
    "        else:\n",
    "            newData.append(item)  # don't change others\n",
    "\n",
    "    img.putdata(newData)\n",
    "    plt.imshow(img)\n",
    "    \n",
    "    img_pixel = pd.DataFrame(np.array(newData))\n",
    "    drop_idx = img_pixel[img_pixel[3] == 0].index  # if pixel is transparent, dorp\n",
    "    img_pixel = img_pixel.drop(drop_idx)\n",
    "    pixels = img_pixel.drop(columns=[3], axis=1)\n",
    "    pixels.columns = ['R', 'G', 'B']\n",
    "    pixels = pixels.reset_index(drop=True)\n",
    "    \n",
    "    return pixels"
   ]
  },
  {
   "cell_type": "code",
   "execution_count": 4,
   "metadata": {},
   "outputs": [],
   "source": [
    "def KNN_color(rgb_data):\n",
    "    X = rgb_data[['R', 'G', 'B']]\n",
    "    y = rgb_data['index']\n",
    "    X_train, X_test, y_train, y_test = train_test_split(X, y, stratify = y,train_size = 0.7,test_size = 0.3,random_state = 0)\n",
    "    \n",
    "    knn = KNeighborsClassifier(n_neighbors=8)  # set KNN model\n",
    "    knn.fit(X_train, y_train)\n",
    "    \n",
    "    print('train set score:', knn.score(X_train, y_train))\n",
    "    print('test set score:', knn.score(X_test, y_test))\n",
    "    print()\n",
    "    \n",
    "    n_test = len(y_test)\n",
    "    y_predict = knn.predict(X_test)\n",
    "\n",
    "    print('test data length:', n_test)\n",
    "    print('Number of data that matched the prediction:', sum(y_test == y_predict))\n",
    "    print('match rate:',round(sum(y_test == y_predict)/n_test*100,2),'%')\n",
    "    \n",
    "    return knn"
   ]
  },
  {
   "cell_type": "code",
   "execution_count": 5,
   "metadata": {},
   "outputs": [],
   "source": [
    "def draw_pie(color_counts, det_col, colors, name):\n",
    "    plt.figure(figsize = (8, 6))\n",
    "    plt.pie(color_counts.values(), labels = det_col, colors=det_col)\n",
    "    plt.savefig(f'{name}_KNN_pie.png')\n",
    "    plt.show()"
   ]
  },
  {
   "cell_type": "code",
   "execution_count": 6,
   "metadata": {},
   "outputs": [],
   "source": [
    "def draw_scatter(predicted, cols_for_scatter, name):\n",
    "    fig = plt.figure(figsize=(15,5))\n",
    "    ax = fig.add_subplot(1, 1, 1, projection='3d')\n",
    "\n",
    "    ax.scatter(predicted['R'], predicted['G'], predicted['B'], c = cols_for_scatter);\n",
    "    ax.set_xlabel('R')\n",
    "    ax.set_ylabel('G')\n",
    "    ax.set_zlabel('B')\n",
    "    ax.set_title('image color classification using KNN', y=1.02)\n",
    "\n",
    "    plt.tight_layout()\n",
    "    plt.savefig(f'{name}_KNN_color_classify.png')\n",
    "    plt.show()"
   ]
  },
  {
   "cell_type": "code",
   "execution_count": 7,
   "metadata": {},
   "outputs": [],
   "source": [
    "def significant_color_knn(pixels, name = 'photo', pie_yn = 1, scatter_yn = 1):\n",
    "    colors = ['aqua','black', 'blue', 'fuchsia', 'green', 'lime', 'maroon', 'navy', 'red', 'white', 'yellow']\n",
    "    \n",
    "    pred_color = knn.predict(pixels)  # identify color using learned model\n",
    "    color_counts = Counter(knn.predict(pixels))  # count label\n",
    "    detected = [i for i in color_counts.keys()]  # key of color_counts\n",
    "        \n",
    "    # if pie_yn == 0, do not draw pie chart.\n",
    "    # default is 1, which draws pie chart\n",
    "    if (pie_yn):  # pie chart\n",
    "        det_col = []\n",
    "        for i in range(len(detected)):  # function for identifiying color name of the key\n",
    "            det_col.append(colors[detected[i]])\n",
    "        draw_pie(color_counts, det_col, colors, name)\n",
    "        \n",
    "    # making into single dataframe of the rgb values and the result\n",
    "    predicted = pd.DataFrame(pred_color)\n",
    "    predicted.columns = ['index']\n",
    "    predicted = pixels.join(predicted)\n",
    "    \n",
    "    # if scatter_yn == 0, do not draw scatter plot\n",
    "    # default is 1, which draws scatter plot\n",
    "    if (scatter_yn):\n",
    "        pred_col = predicted['index'].to_list()\n",
    "        \n",
    "        cols_for_scatter = []\n",
    "        for i in range(len(pred_col)):\n",
    "            cols_for_scatter.append(colors[pred_col[i]])\n",
    "            \n",
    "        draw_scatter(predicted, cols_for_scatter, name)\n",
    "    \n",
    "    # index of most significant color\n",
    "    for k, v in color_counts.items():\n",
    "        if v == max(color_counts.values()):\n",
    "            max_idx = k\n",
    "            \n",
    "    return html[html['index'] == max_idx]['name']"
   ]
  },
  {
   "cell_type": "markdown",
   "metadata": {},
   "source": [
    "# Run"
   ]
  },
  {
   "cell_type": "code",
   "execution_count": 8,
   "metadata": {},
   "outputs": [],
   "source": [
    "img = Image.open('./sampleImage/rainbow_knit.jpg')  # image to identify color\n",
    "rgb_data = pd.read_csv('./colorChart/augmented_color_chart_11.csv')  # data to learn (augmented)\n",
    "html = pd.read_csv('./colorChart/colorChart_11.csv')  # data to identify color (non-augmented data)"
   ]
  },
  {
   "cell_type": "code",
   "execution_count": 9,
   "metadata": {},
   "outputs": [
    {
     "name": "stdout",
     "output_type": "stream",
     "text": [
      "CPU times: total: 62.5 ms\n",
      "Wall time: 52 ms\n"
     ]
    },
    {
     "data": {
      "image/png": "[encoded data removed]",
      "text/plain": [
       "<Figure size 432x288 with 1 Axes>"
      ]
     },
     "metadata": {
      "needs_background": "light"
     },
     "output_type": "display_data"
    }
   ],
   "source": [
    "%%time\n",
    "\n",
    "pixels = img_preprocessing(img = img)"
   ]
  },
  {
   "cell_type": "code",
   "execution_count": 10,
   "metadata": {},
   "outputs": [
    {
     "name": "stdout",
     "output_type": "stream",
     "text": [
      "train set score: 0.9881925522252498\n",
      "test set score: 0.9872881355932204\n",
      "\n",
      "test data length: 3304\n",
      "Number of data that matched the prediction: 3262\n",
      "match rate: 98.73 %\n",
      "CPU times: total: 359 ms\n",
      "Wall time: 353 ms\n"
     ]
    }
   ],
   "source": [
    "%%time\n",
    "\n",
    "knn = KNN_color(rgb_data = rgb_data)"
   ]
  },
  {
   "cell_type": "code",
   "execution_count": 13,
   "metadata": {
    "scrolled": false
   },
   "outputs": [
    {
     "name": "stdout",
     "output_type": "stream",
     "text": [
      "CPU times: total: 203 ms\n",
      "Wall time: 204 ms\n"
     ]
    }
   ],
   "source": [
    "%%time\n",
    "\n",
    "# second parameter 'name' is the name of the chart to save.\n",
    "# recomend to use what type or object of the image you are identifying\n",
    "# default = 'photo'\n",
    "identified_color = significant_color_knn(pixels = pixels, name = 'rainbow', pie_yn = 0, scatter_yn = 0)"
   ]
  },
  {
   "cell_type": "code",
   "execution_count": 14,
   "metadata": {},
   "outputs": [
    {
     "name": "stdout",
     "output_type": "stream",
     "text": [
      "7    navy\n",
      "Name: name, dtype: object\n"
     ]
    }
   ],
   "source": [
    "print(identified_color)"
   ]
  }
 ],
 "metadata": {
  "kernelspec": {
   "display_name": "Python 3 (ipykernel)",
   "language": "python",
   "name": "python3"
  },
  "language_info": {
   "codemirror_mode": {
    "name": "ipython",
    "version": 3
   },
   "file_extension": ".py",
   "mimetype": "text/x-python",
   "name": "python",
   "nbconvert_exporter": "python",
   "pygments_lexer": "ipython3",
   "version": "3.8.5"
  }
 },
 "nbformat": 4,
 "nbformat_minor": 4
}
