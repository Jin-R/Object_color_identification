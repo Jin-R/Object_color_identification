{
 "cells": [
  {
   "cell_type": "markdown",
   "metadata": {},
   "source": [
    "# Making dataset"
   ]
  },
  {
   "cell_type": "code",
   "execution_count": 1,
   "metadata": {},
   "outputs": [],
   "source": [
    "from PIL import Image\n",
    "import os, glob, numpy as np"
   ]
  },
  {
   "cell_type": "code",
   "execution_count": 2,
   "metadata": {},
   "outputs": [],
   "source": [
    "import warnings\n",
    "warnings.filterwarnings('ignore')"
   ]
  },
  {
   "cell_type": "code",
   "execution_count": 3,
   "metadata": {},
   "outputs": [],
   "source": [
    "caltech_dir = \"./dataset_image\"\n",
    "categories = ['0. aqua','1. black', '2. blue', '3. fuchsia', '4. green', '5. lime', '6. maroon', '7. navy', '8. red', '9. white', '10. yellow']\n",
    "# nb_classes = len(categories)"
   ]
  },
  {
   "cell_type": "code",
   "execution_count": 4,
   "metadata": {},
   "outputs": [],
   "source": [
    "image_w = 128\n",
    "image_h = 128\n",
    "\n",
    "# pixels = image_h * image_w * 3"
   ]
  },
  {
   "cell_type": "code",
   "execution_count": 8,
   "metadata": {},
   "outputs": [],
   "source": [
    "X = []\n",
    "y = []"
   ]
  },
  {
   "cell_type": "code",
   "execution_count": 6,
   "metadata": {
    "scrolled": true
   },
   "outputs": [
    {
     "name": "stdout",
     "output_type": "stream",
     "text": [
      "0. aqua  파일 길이 :  100\n",
      "1. black  파일 길이 :  100\n",
      "2. blue  파일 길이 :  100\n",
      "3. fuchsia  파일 길이 :  100\n",
      "4. green  파일 길이 :  100\n",
      "5. lime  파일 길이 :  100\n",
      "6. maroon  파일 길이 :  100\n",
      "7. navy  파일 길이 :  100\n",
      "8. red  파일 길이 :  100\n",
      "9. white  파일 길이 :  100\n",
      "10. yellow  파일 길이 :  100\n",
      "ok 1100\n"
     ]
    }
   ],
   "source": [
    "for idx, cat in enumerate(categories):\n",
    "\n",
    "    image_dir = caltech_dir + \"/\" + cat\n",
    "    files = glob.glob(image_dir+\"/*.jpg\")\n",
    "    print(cat, \" 파일 길이 : \", len(files))\n",
    "    for i, f in enumerate(files):\n",
    "        try:\n",
    "            img = Image.open(f)\n",
    "            img = img.convert(\"RGBA\")\n",
    "            img = img.resize((image_w, image_h))\n",
    "            data = img.getdata()\n",
    "#             data = np.asarray(data)\n",
    "        except Exception as e:\n",
    "            pass\n",
    "\n",
    "        X.append(data)\n",
    "        y.append(idx)\n",
    "\n",
    "#         if i != 0 and i % 100 == 0:\n",
    "#             print(cat, \" : \", f)\n",
    "\n",
    "print(\"ok\", len(y))"
   ]
  },
  {
   "cell_type": "code",
   "execution_count": 9,
   "metadata": {},
   "outputs": [
    {
     "name": "stdout",
     "output_type": "stream",
     "text": [
      "white  파일 길이 :  100\n",
      "ok 100\n"
     ]
    }
   ],
   "source": [
    "image_dir = caltech_dir + \"/\" + '9. white'\n",
    "files = glob.glob(image_dir+\"/*.jpg\")\n",
    "print('white', \" 파일 길이 : \", len(files))\n",
    "for i, f in enumerate(files):\n",
    "    try:\n",
    "        img = Image.open(f)\n",
    "        img = img.convert(\"RGBA\")\n",
    "        img = img.resize((image_w, image_h))\n",
    "        data = img.getdata()\n",
    "    except Exception as e:\n",
    "        pass\n",
    "\n",
    "    X.append(data)\n",
    "    y.append(9)\n",
    "    \n",
    "print(\"ok\", len(y))"
   ]
  },
  {
   "cell_type": "code",
   "execution_count": 12,
   "metadata": {},
   "outputs": [],
   "source": [
    "X = np.array(X)\n",
    "y = np.array(y)"
   ]
  },
  {
   "cell_type": "code",
   "execution_count": 13,
   "metadata": {},
   "outputs": [],
   "source": [
    "np.save(\"./100_clothing_img\", X)\n",
    "np.save(\"./100_clothing_color\", y)"
   ]
  },
  {
   "cell_type": "markdown",
   "metadata": {},
   "source": [
    "# Images in dataset"
   ]
  },
  {
   "cell_type": "code",
   "execution_count": null,
   "metadata": {},
   "outputs": [],
   "source": [
    "import matplotlib.pyplot as plt\n",
    "import cv2"
   ]
  },
  {
   "cell_type": "code",
   "execution_count": null,
   "metadata": {},
   "outputs": [],
   "source": [
    "dirs = []"
   ]
  },
  {
   "cell_type": "code",
   "execution_count": null,
   "metadata": {},
   "outputs": [],
   "source": [
    "for idx, cat in enumerate(categories):\n",
    "    image_dir = caltech_dir + \"/\" + cat\n",
    "    files = glob.glob(image_dir+\"/*.jpg\")\n",
    "    for i in range(len(files)):\n",
    "        dirs.append(files[i])"
   ]
  },
  {
   "cell_type": "code",
   "execution_count": null,
   "metadata": {},
   "outputs": [],
   "source": [
    "fig = plt.figure(figsize=(50, 22))\n",
    "\n",
    "for i in range(1100):\n",
    "    img = cv2.imread(dirs[i])\n",
    "        \n",
    "    ax = fig.add_subplot(22, 50, i + 1)\n",
    "    ax.imshow(cv2.cvtColor(img, cv2.COLOR_BGR2RGB))\n",
    "    ax.set_xticks([])\n",
    "    ax.set_yticks([])\n",
    "    ax.grid(False)\n",
    "    ax.axis(\"off\")\n",
    "        \n",
    "plt.savefig(\"./images.png\")\n",
    "plt.show()"
   ]
  }
 ],
 "metadata": {
  "kernelspec": {
   "display_name": "Python 3 (ipykernel)",
   "language": "python",
   "name": "python3"
  },
  "language_info": {
   "codemirror_mode": {
    "name": "ipython",
    "version": 3
   },
   "file_extension": ".py",
   "mimetype": "text/x-python",
   "name": "python",
   "nbconvert_exporter": "python",
   "pygments_lexer": "ipython3",
   "version": "3.8.5"
  }
 },
 "nbformat": 4,
 "nbformat_minor": 4
}
