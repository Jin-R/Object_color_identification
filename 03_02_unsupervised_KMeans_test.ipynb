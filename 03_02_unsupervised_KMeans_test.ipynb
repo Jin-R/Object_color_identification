{
 "cells": [
  {
   "cell_type": "markdown",
   "metadata": {},
   "source": [
    "# Import moduls"
   ]
  },
  {
   "cell_type": "code",
   "execution_count": 1,
   "metadata": {},
   "outputs": [],
   "source": [
    "import warnings\n",
    "warnings.filterwarnings('ignore')"
   ]
  },
  {
   "cell_type": "code",
   "execution_count": 2,
   "metadata": {},
   "outputs": [],
   "source": [
    "import numpy as np\n",
    "import pandas as pd\n",
    "\n",
    "# moduls for KMeans_color()\n",
    "from sklearn.cluster import MiniBatchKMeans\n",
    "from collections import Counter\n",
    "\n",
    "# modul for check_silhouette()\n",
    "from sklearn.metrics import silhouette_score, silhouette_samples\n",
    "\n",
    "# modul for color_identify_distance()\n",
    "from math import dist"
   ]
  },
  {
   "cell_type": "markdown",
   "metadata": {},
   "source": [
    "# Functions"
   ]
  },
  {
   "cell_type": "code",
   "execution_count": 3,
   "metadata": {},
   "outputs": [],
   "source": [
    "def img_preprocessing(img):\n",
    "    datas = img\n",
    "    newData = []\n",
    "    cutoff = 200\n",
    "    \n",
    "    # cutoff \n",
    "    for item in datas:\n",
    "        if item[0] >= cutoff and item[1] >= cutoff and item[2] >= cutoff:\n",
    "            newData.append((255, 255, 255, 0)) # if RGB value is over cutoff, consider as background (white)\n",
    "        else:\n",
    "            newData.append(item)  # don't change others\n",
    "    \n",
    "    img_pixel = pd.DataFrame(np.array(newData))\n",
    "    drop_idx = img_pixel[img_pixel[3] == 0].index  # if pixel is transparent, dorp\n",
    "    img_pixel = img_pixel.drop(drop_idx)\n",
    "    pixels = img_pixel.drop(columns=[3], axis=1)\n",
    "    pixels.columns = ['R', 'G', 'B']\n",
    "    pixels = pixels.reset_index(drop=True)\n",
    "    \n",
    "    return pixels"
   ]
  },
  {
   "cell_type": "code",
   "execution_count": 4,
   "metadata": {},
   "outputs": [],
   "source": [
    "def rgb_to_hex(color):\n",
    "    return \"#{:02x}{:02x}{:02x}\".format(int(color[0]), int(color[1]), int(color[2]))"
   ]
  },
  {
   "cell_type": "code",
   "execution_count": 5,
   "metadata": {},
   "outputs": [],
   "source": [
    "def hex_to_rgb(color):\n",
    "    color = color.lstrip('#')\n",
    "    lv = len(color)\n",
    "    return tuple(int(color[i:i + lv // 3], 16) for i in range(0, lv, lv // 3))"
   ]
  },
  {
   "cell_type": "code",
   "execution_count": 6,
   "metadata": {},
   "outputs": [],
   "source": [
    "def KMeans_color(pixels, n_cluster = 0):\n",
    "    # if the image only contains white color\n",
    "    # image preprocessing eliminates white pixels, so if the image only has white color, no pixel will remain\n",
    "    if len(pixels) == 0:\n",
    "        return (['#FFFFFF'], 0)\n",
    "    \n",
    "    if n_cluster == 0:  # if you're not sure about how many colors are in the image, check silhouette score to identify cluster number\n",
    "        sil = check_silhouette(pixels)\n",
    "        if len(sil) == 0 or max(sil) < 0.5: # if max silhouette score is lower than 0.5, consider only one color in the image\n",
    "            number_of_colors = 1\n",
    "        else:\n",
    "            sil_max = sil.index(max(sil)) + 2\n",
    "            number_of_colors = sil.index(max(sil)) + 2\n",
    "    else:  # if you know how many colors on the image, use the parameter to do the analysis\n",
    "        number_of_colors = n_cluster\n",
    "        \n",
    "    clf = MiniBatchKMeans(n_clusters = number_of_colors, init = 'k-means++', random_state = 10)\n",
    "    labels = clf.fit_predict(pixels)\n",
    "    counts = Counter(labels)\n",
    "    \n",
    "    center_colors = clf.cluster_centers_\n",
    "    hex_colors = [rgb_to_hex(center_colors[i]) for i in counts.keys()]\n",
    "\n",
    "    # clustered pixel number\n",
    "    pixel_num = []\n",
    "    for i in counts.values():\n",
    "        pixel_num.append(i)\n",
    "        \n",
    "    return (hex_colors, pixel_num)"
   ]
  },
  {
   "cell_type": "code",
   "execution_count": 7,
   "metadata": {},
   "outputs": [],
   "source": [
    "def check_silhouette(pixels):\n",
    "    sil = []\n",
    "    \n",
    "    for n in range(2, 12):\n",
    "        # if the number of pixel is same or smaller than number of cluster\n",
    "        # Valid values are 2 to n_samples - 1 (inclusive)\n",
    "        if len(pixels) <= n or len(pixels[pixels.duplicated(['R', 'G', 'B']) == False]) <= n:\n",
    "            return sil\n",
    "\n",
    "        clf = MiniBatchKMeans(n_clusters = n, init = 'k-means++', random_state = 10)\n",
    "        labels = clf.fit_predict(pixels)\n",
    "        centroid  = clf.cluster_centers_\n",
    "\n",
    "        score = silhouette_score(pixels, labels, metric='euclidean')\n",
    "        silhouette_vals = silhouette_samples(pixels, labels)\n",
    "        sil.append(score)\n",
    "        \n",
    "    return sil"
   ]
  },
  {
   "cell_type": "code",
   "execution_count": 8,
   "metadata": {},
   "outputs": [],
   "source": [
    "# Calculate the Euclidean distance and get the index of the closest color\n",
    "def color_dist(hex_s, rgbs):\n",
    "    color_index = []\n",
    "    \n",
    "    for i in range(len(hex_s)):\n",
    "        min_color = 10000\n",
    "        min_index = 0\n",
    "        \n",
    "        for j in range(len(rgbs)):\n",
    "            distance = dist(hex_to_rgb(hex_s[i]), tuple(rgbs[j]))\n",
    "\n",
    "            if distance < min_color:\n",
    "                min_color = distance\n",
    "                min_index = j\n",
    "                \n",
    "        color_index.append(min_index)\n",
    "            \n",
    "    return color_index"
   ]
  },
  {
   "cell_type": "code",
   "execution_count": 9,
   "metadata": {},
   "outputs": [],
   "source": [
    "def color_identify_distance(rgb_data, hex_colors, pixel_num):\n",
    "    # if the image only contains white color\n",
    "    # image preprocessing eliminates white pixels, so if the image only has white color, no pixel will remain\n",
    "    if pixel_num == 0:\n",
    "        return 9\n",
    "    \n",
    "    rgbs = rgb_data[['R', 'G', 'B']].values.tolist()\n",
    "    c_name = color_dist(hex_colors, rgbs)\n",
    "    \n",
    "    # Returns the index of the color with the greatest weight\n",
    "    c_per = [0] * len(rgbs)\n",
    "    for i in range(len(c_name)):\n",
    "        c_per[c_name[i]] +=  pixel_num[i]\n",
    "        \n",
    "    return c_per.index(max(c_per))"
   ]
  },
  {
   "cell_type": "markdown",
   "metadata": {},
   "source": [
    "# Test"
   ]
  },
  {
   "cell_type": "code",
   "execution_count": 10,
   "metadata": {},
   "outputs": [],
   "source": [
    "X = np.load(\"./dataset/1100_clothing_img.npy\")\n",
    "y = np.load(\"./dataset/1100_clothing_color.npy\")"
   ]
  },
  {
   "cell_type": "code",
   "execution_count": 11,
   "metadata": {},
   "outputs": [],
   "source": [
    "rgb_data = pd.read_csv('./colorChart/colorChart_11.csv')"
   ]
  },
  {
   "cell_type": "code",
   "execution_count": 12,
   "metadata": {},
   "outputs": [
    {
     "name": "stdout",
     "output_type": "stream",
     "text": [
      "(1100, 16384, 4)\n",
      "(1100,)\n"
     ]
    }
   ],
   "source": [
    "print(X.shape)\n",
    "print(y.shape)"
   ]
  },
  {
   "cell_type": "code",
   "execution_count": 17,
   "metadata": {},
   "outputs": [],
   "source": [
    "colors = []\n",
    "result = []"
   ]
  },
  {
   "cell_type": "code",
   "execution_count": 16,
   "metadata": {
    "scrolled": true
   },
   "outputs": [
    {
     "name": "stdout",
     "output_type": "stream",
     "text": [
      "100 images processed\n",
      "200 images processed\n",
      "300 images processed\n",
      "400 images processed\n",
      "500 images processed\n",
      "600 images processed\n",
      "700 images processed\n",
      "800 images processed\n",
      "900 images processed\n",
      "1000 images processed\n",
      "1100 images processed\n",
      "CPU times: total: 21h 18min 44s\n",
      "Wall time: 8h 56min 31s\n"
     ]
    }
   ],
   "source": [
    "%%time\n",
    "\n",
    "for i in range(len(X)):\n",
    "    img = X[i]\n",
    "    pixels = img_preprocessing(img = img)\n",
    "    hex_colors, pixel_num = KMeans_color(pixels, n_cluster = 0)\n",
    "    identified_color = color_identify_distance(rgb_data, hex_colors, pixel_num)\n",
    "    \n",
    "    if len(hex_colors) == 1:\n",
    "        colors.append(hex_colors[0])\n",
    "    else:\n",
    "        colors.append(hex_colors)\n",
    "    result.append(identified_color)\n",
    "    \n",
    "    if (i+1) % 100 == 0:\n",
    "        print(f\"{i+1} images processed\")"
   ]
  },
  {
   "cell_type": "code",
   "execution_count": 20,
   "metadata": {},
   "outputs": [],
   "source": [
    "KMeans_result = np.array(result)\n",
    "np.save(\"./1100_KMeans_result\", KMeans_result)"
   ]
  },
  {
   "cell_type": "code",
   "execution_count": 25,
   "metadata": {},
   "outputs": [
    {
     "data": {
      "text/plain": [
       "array([ 9,  9,  9, ..., 10, 10, 10])"
      ]
     },
     "execution_count": 25,
     "metadata": {},
     "output_type": "execute_result"
    }
   ],
   "source": [
    "KMeans_sil = np.array(result)\n",
    "np.save(\"./1100_KMeans_silhouette_result\", KMeans_sil)"
   ]
  },
  {
   "cell_type": "code",
   "execution_count": 33,
   "metadata": {},
   "outputs": [
    {
     "data": {
      "text/plain": [
       "array([list(['#bae5e7', '#a8dbdc']), list(['#afd4da', '#88bcc5']),\n",
       "       list(['#b0d4db', '#91c2ca']), ..., list(['#dabc85', '#e5ae09']),\n",
       "       '#f5d340', '#e2c04c'], dtype=object)"
      ]
     },
     "execution_count": 33,
     "metadata": {},
     "output_type": "execute_result"
    }
   ],
   "source": [
    "KMeans_sil_color = np.array(colors)\n",
    "np.save(\"./1100_KMeans_silhouette_color\", KMeans_sil_color)"
   ]
  },
  {
   "cell_type": "markdown",
   "metadata": {},
   "source": [
    "# Check accuracy"
   ]
  },
  {
   "cell_type": "code",
   "execution_count": 21,
   "metadata": {},
   "outputs": [],
   "source": [
    "from sklearn.metrics import confusion_matrix, accuracy_score, classification_report\n",
    "import seaborn as sns\n",
    "from matplotlib import pyplot as plt"
   ]
  },
  {
   "cell_type": "code",
   "execution_count": 44,
   "metadata": {},
   "outputs": [],
   "source": [
    "KMeans_result = np.load('./kmeans_img/1100_clothing/1100_KMeans_result.npy')"
   ]
  },
  {
   "cell_type": "code",
   "execution_count": 45,
   "metadata": {},
   "outputs": [
    {
     "data": {
      "text/plain": [
       "102.20078277586722"
      ]
     },
     "execution_count": 45,
     "metadata": {},
     "output_type": "execute_result"
    }
   ],
   "source": [
    "np.linalg.norm(y-KMeans_result)"
   ]
  },
  {
   "cell_type": "code",
   "execution_count": 39,
   "metadata": {},
   "outputs": [
    {
     "data": {
      "text/plain": [
       "array([[50,  0,  0,  0,  0,  0,  0,  7,  0, 43,  0],\n",
       "       [ 0, 96,  0,  0,  1,  0,  2,  1,  0,  0,  0],\n",
       "       [19,  0,  7,  0,  0,  0,  0, 65,  0,  9,  0],\n",
       "       [ 0,  0,  0, 54,  0,  0, 11,  0, 28,  7,  0],\n",
       "       [ 1,  5,  0,  0, 84,  2,  1,  1,  0,  4,  2],\n",
       "       [ 3,  0,  0,  0,  9,  7,  0,  0,  0, 19, 62],\n",
       "       [ 0,  2,  0,  0,  0,  0, 98,  0,  0,  0,  0],\n",
       "       [ 6, 11,  4,  0,  0,  0,  0, 77,  0,  2,  0],\n",
       "       [ 0,  0,  0,  0,  0,  0, 48,  0, 52,  0,  0],\n",
       "       [ 0,  0,  0,  0,  1,  0,  6,  3,  0, 87,  3],\n",
       "       [ 0,  0,  0,  0,  0,  0,  0,  0,  0, 11, 89]], dtype=int64)"
      ]
     },
     "execution_count": 39,
     "metadata": {},
     "output_type": "execute_result"
    }
   ],
   "source": [
    "conf_mx = confusion_matrix(y, result)\n",
    "conf_mx"
   ]
  },
  {
   "cell_type": "code",
   "execution_count": 40,
   "metadata": {},
   "outputs": [],
   "source": [
    "label = ['aqua','black', 'blue', 'fuchsia', 'green', 'lime', 'maroon', 'navy', 'red', 'white', 'yellow']"
   ]
  },
  {
   "cell_type": "code",
   "execution_count": 41,
   "metadata": {},
   "outputs": [
    {
     "data": {
      "image/png": "[encoded data removed]",
      "text/plain": [
       "<Figure size 864x720 with 2 Axes>"
      ]
     },
     "metadata": {
      "needs_background": "light"
     },
     "output_type": "display_data"
    }
   ],
   "source": [
    "plt.figure(figsize=(12, 10)) \n",
    "sns.heatmap(conf_mx, annot=True, cmap=plt.cm.Blues, fmt='d')\n",
    "plt.xticks(np.arange(0.5, len(label), 1), labels=label)\n",
    "plt.yticks(np.arange(0.5, len(label), 1), labels=label)\n",
    "plt.xlabel('Predicted', fontsize=15)\n",
    "plt.ylabel('True', fontsize=15)\n",
    "plt.title('KMeans Confusion Matrix', fontsize=15)\n",
    "plt.savefig('KMeans_confusion_matrix.png')\n",
    "plt.show()"
   ]
  },
  {
   "cell_type": "code",
   "execution_count": 28,
   "metadata": {},
   "outputs": [
    {
     "data": {
      "text/plain": [
       "0.6372727272727273"
      ]
     },
     "execution_count": 28,
     "metadata": {},
     "output_type": "execute_result"
    }
   ],
   "source": [
    "accuracy_score(y, result)"
   ]
  },
  {
   "cell_type": "code",
   "execution_count": 29,
   "metadata": {
    "scrolled": false
   },
   "outputs": [
    {
     "name": "stdout",
     "output_type": "stream",
     "text": [
      "              precision    recall  f1-score   support\n",
      "\n",
      "           0       0.63      0.50      0.56       100\n",
      "           1       0.84      0.96      0.90       100\n",
      "           2       0.64      0.07      0.13       100\n",
      "           3       1.00      0.54      0.70       100\n",
      "           4       0.88      0.84      0.86       100\n",
      "           5       0.78      0.07      0.13       100\n",
      "           6       0.59      0.98      0.74       100\n",
      "           7       0.50      0.77      0.61       100\n",
      "           8       0.65      0.52      0.58       100\n",
      "           9       0.48      0.87      0.62       100\n",
      "          10       0.57      0.89      0.70       100\n",
      "\n",
      "    accuracy                           0.64      1100\n",
      "   macro avg       0.69      0.64      0.59      1100\n",
      "weighted avg       0.69      0.64      0.59      1100\n",
      "\n"
     ]
    }
   ],
   "source": [
    "print(classification_report(y, result))"
   ]
  }
 ],
 "metadata": {
  "kernelspec": {
   "display_name": "Python 3 (ipykernel)",
   "language": "python",
   "name": "python3"
  },
  "language_info": {
   "codemirror_mode": {
    "name": "ipython",
    "version": 3
   },
   "file_extension": ".py",
   "mimetype": "text/x-python",
   "name": "python",
   "nbconvert_exporter": "python",
   "pygments_lexer": "ipython3",
   "version": "3.8.5"
  }
 },
 "nbformat": 4,
 "nbformat_minor": 4
}
